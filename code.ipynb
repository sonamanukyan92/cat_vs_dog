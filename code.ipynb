{
 "cells": [
  {
   "cell_type": "code",
   "execution_count": 247,
   "metadata": {},
   "outputs": [
    {
     "data": {
      "application/javascript": [
       "IPython.OutputArea.prototype._should_scroll = function(lines) {\n",
       "    return false;\n",
       "}\n"
      ],
      "text/plain": [
       "<IPython.core.display.Javascript object>"
      ]
     },
     "metadata": {},
     "output_type": "display_data"
    }
   ],
   "source": [
    "%%javascript\n",
    "IPython.OutputArea.prototype._should_scroll = function(lines) {\n",
    "    return false;\n",
    "}"
   ]
  },
  {
   "cell_type": "code",
   "execution_count": 248,
   "metadata": {},
   "outputs": [],
   "source": [
    "import pandas as pd\n",
    "\n",
    "df = pd.read_excel('catsvdogs.xlsx')"
   ]
  },
  {
   "cell_type": "code",
   "execution_count": 249,
   "metadata": {},
   "outputs": [
    {
     "data": {
      "text/plain": [
       "Index(['Location', 'state', 'latitude', 'longitude',\n",
       "       'Number of Households (in 1000)', 'Number of Pet Households (in 1000)',\n",
       "       'Percentage of households with pets',\n",
       "       'Number of Households (in 1000) owning both dog and cat',\n",
       "       'Both Dog(s) and Cat(s)',\n",
       "       'Number of Households (in 1000) owning only dog', 'Only Dog(s)',\n",
       "       'Number of Households (in 1000) owning only cat', 'Only Cat(s)',\n",
       "       'Dog Owning Households (1000s)', 'Percentage of Dog Owners',\n",
       "       'Mean Number of Dogs', 'Dog Population (in 1000)',\n",
       "       'Cat Owning Households', 'Percentage of Cat Owners',\n",
       "       'Mean Number of Cats', 'Cat Population (in 1000)',\n",
       "       'Population Majority Cat vs Dog 1', 'difference of cat and dog pop',\n",
       "       'Population Majority Cat vs Dog'],\n",
       "      dtype='object')"
      ]
     },
     "execution_count": 249,
     "metadata": {},
     "output_type": "execute_result"
    }
   ],
   "source": [
    "df.columns"
   ]
  },
  {
   "cell_type": "code",
   "execution_count": 250,
   "metadata": {
    "scrolled": false
   },
   "outputs": [
    {
     "data": {
      "application/vnd.plotly.v1+json": {
       "config": {
        "plotlyServerURL": "https://plot.ly"
       },
       "data": [
        {
         "colorscale": [
          [
           0,
           "rgb(27, 158, 119)"
          ],
          [
           1,
           "rgb(27, 158, 119)"
          ]
         ],
         "customdata": [
          [
           5565,
           7163
          ],
          [
           1749,
           2157
          ],
          [
           1438,
           1798
          ],
          [
           1653,
           1978
          ],
          [
           2162,
           2479
          ]
         ],
         "geo": "geo",
         "hovertemplate": "<b>%{hovertext}</b><br><br>Cat vs Dog Popularity=dog<br>state=%{location}<br>Cat Population (in 1000)=%{customdata[0]}<br>Dog Population (in 1000)=%{customdata[1]}<extra></extra>",
         "hovertext": [
          "Texas",
          "Tennessee",
          "Arizona",
          "Missouri",
          "Georgia"
         ],
         "locationmode": "USA-states",
         "locations": [
          "TX",
          "TN",
          "AZ",
          "MO",
          "GA"
         ],
         "name": "dog",
         "showlegend": true,
         "showscale": false,
         "type": "choropleth",
         "z": [
          1,
          1,
          1,
          1,
          1
         ]
        },
        {
         "colorscale": [
          [
           0,
           "rgb(102, 194, 165)"
          ],
          [
           1,
           "rgb(102, 194, 165)"
          ]
         ],
         "customdata": [
          [
           2220,
           2518
          ],
          [
           810,
           1097
          ],
          [
           1041,
           1327
          ],
          [
           877,
           1115
          ],
          [
           1349,
           1531
          ],
          [
           668,
           846
          ],
          [
           533,
           703
          ],
          [
           1191,
           1349
          ],
          [
           1252,
           1410
          ],
          [
           1039,
           1191
          ]
         ],
         "geo": "geo",
         "hovertemplate": "<b>%{hovertext}</b><br><br>Cat vs Dog Popularity=dog (moderate)<br>state=%{location}<br>Cat Population (in 1000)=%{customdata[0]}<br>Dog Population (in 1000)=%{customdata[1]}<extra></extra>",
         "hovertext": [
          "North Carolina",
          "Arkansas",
          "Oklahoma",
          "Louisiana",
          "Kentucky",
          "Mississippi",
          "New Mexico",
          "Colorado",
          "Alabama",
          "South Carolina"
         ],
         "locationmode": "USA-states",
         "locations": [
          "NC",
          "AR",
          "OK",
          "LA",
          "KY",
          "MS",
          "NM",
          "CO",
          "AL",
          "SC"
         ],
         "name": "dog (moderate)",
         "showlegend": true,
         "showscale": false,
         "type": "choropleth",
         "z": [
          1,
          1,
          1,
          1,
          1,
          1,
          1,
          1,
          1,
          1
         ]
        },
        {
         "colorscale": [
          [
           0,
           "rgb(255, 255, 204)"
          ],
          [
           1,
           "rgb(255, 255, 204)"
          ]
         ],
         "customdata": [
          [
           731,
           774
          ],
          [
           628,
           648
          ],
          [
           277,
           282
          ],
          [
           144,
           125
          ],
          [
           63,
           42
          ],
          [
           187,
           163
          ],
          [
           174,
           139
          ],
          [
           393,
           357
          ],
          [
           455,
           410
          ],
          [
           625,
           578
          ],
          [
           212,
           161
          ],
          [
           290,
           220
          ],
          [
           2453,
           2365
          ],
          [
           234,
           142
          ],
          [
           309,
           212
          ]
         ],
         "geo": "geo",
         "hovertemplate": "<b>%{hovertext}</b><br><br>Cat vs Dog Popularity=almost equal<br>state=%{location}<br>Cat Population (in 1000)=%{customdata[0]}<br>Dog Population (in 1000)=%{customdata[1]}<extra></extra>",
         "hovertext": [
          "Kansas",
          "West Virginia",
          "Montana",
          "Wyoming",
          "District of Columbia",
          "Delaware",
          "North Dakota",
          "Idaho",
          "Utah",
          "Nevada",
          "Rhode Island",
          "South Dakota",
          "Illinois",
          "Vermont",
          "New Hampshire"
         ],
         "locationmode": "USA-states",
         "locations": [
          "KS",
          "WV",
          "MT",
          "WY",
          "DC",
          "DE",
          "ND",
          "ID",
          "UT",
          "NV",
          "RI",
          "SD",
          "IL",
          "VT",
          "NH"
         ],
         "name": "almost equal",
         "showlegend": true,
         "showscale": false,
         "type": "choropleth",
         "z": [
          1,
          1,
          1,
          1,
          1,
          1,
          1,
          1,
          1,
          1,
          1,
          1,
          1,
          1,
          1
         ]
        },
        {
         "colorscale": [
          [
           0,
           "rgb(222, 203, 228)"
          ],
          [
           1,
           "rgb(222, 203, 228)"
          ]
         ],
         "customdata": [
          [
           1468,
           1340
          ],
          [
           514,
           374
          ],
          [
           1855,
           1699
          ],
          [
           4375,
           4210
          ],
          [
           805,
           610
          ],
          [
           498,
           300
          ],
          [
           1844,
           1609
          ],
          [
           1185,
           917
          ],
          [
           796,
           507
          ],
          [
           1912,
           1619
          ]
         ],
         "geo": "geo",
         "hovertemplate": "<b>%{hovertext}</b><br><br>Cat vs Dog Popularity=cat (moderate)<br>state=%{location}<br>Cat Population (in 1000)=%{customdata[0]}<br>Dog Population (in 1000)=%{customdata[1]}<extra></extra>",
         "hovertext": [
          "New Jersey",
          "Nebraska",
          "Virginia",
          "Florida",
          "Iowa",
          "Maine",
          "Washington",
          "Oregon",
          "Connecticut",
          "Indiana"
         ],
         "locationmode": "USA-states",
         "locations": [
          "NJ",
          "NE",
          "VA",
          "FL",
          "IA",
          "ME",
          "WA",
          "OR",
          "CT",
          "IN"
         ],
         "name": "cat (moderate)",
         "showlegend": true,
         "showscale": false,
         "type": "choropleth",
         "z": [
          1,
          1,
          1,
          1,
          1,
          1,
          1,
          1,
          1,
          1
         ]
        },
        {
         "colorscale": [
          [
           0,
           "rgb(152, 78, 163)"
          ],
          [
           1,
           "rgb(152, 78, 163)"
          ]
         ],
         "customdata": [
          [
           1264,
           934
          ],
          [
           1510,
           1138
          ],
          [
           2420,
           2036
          ],
          [
           7118,
           6687
          ],
          [
           1593,
           850
          ],
          [
           1677,
           915
          ],
          [
           3786,
           2730
          ],
          [
           3544,
           2485
          ],
          [
           4261,
           3054
          ]
         ],
         "geo": "geo",
         "hovertemplate": "<b>%{hovertext}</b><br><br>Cat vs Dog Popularity=cat<br>state=%{location}<br>Cat Population (in 1000)=%{customdata[0]}<br>Dog Population (in 1000)=%{customdata[1]}<extra></extra>",
         "hovertext": [
          "Minnesota",
          "Wisconsin",
          "Michigan",
          "California",
          "Massachusetts",
          "Maryland",
          "Ohio",
          "Pennsylvania",
          "New York"
         ],
         "locationmode": "USA-states",
         "locations": [
          "MN",
          "WI",
          "MI",
          "CA",
          "MA",
          "MD",
          "OH",
          "PA",
          "NY"
         ],
         "name": "cat",
         "showlegend": true,
         "showscale": false,
         "type": "choropleth",
         "z": [
          1,
          1,
          1,
          1,
          1,
          1,
          1,
          1,
          1
         ]
        }
       ],
       "layout": {
        "geo": {
         "center": {},
         "domain": {
          "x": [
           0,
           1
          ],
          "y": [
           0,
           1
          ]
         },
         "scope": "usa"
        },
        "legend": {
         "title": {
          "text": "Cat vs Dog Popularity"
         },
         "tracegroupgap": 0
        },
        "template": {
         "data": {
          "bar": [
           {
            "error_x": {
             "color": "#2a3f5f"
            },
            "error_y": {
             "color": "#2a3f5f"
            },
            "marker": {
             "line": {
              "color": "#E5ECF6",
              "width": 0.5
             },
             "pattern": {
              "fillmode": "overlay",
              "size": 10,
              "solidity": 0.2
             }
            },
            "type": "bar"
           }
          ],
          "barpolar": [
           {
            "marker": {
             "line": {
              "color": "#E5ECF6",
              "width": 0.5
             },
             "pattern": {
              "fillmode": "overlay",
              "size": 10,
              "solidity": 0.2
             }
            },
            "type": "barpolar"
           }
          ],
          "carpet": [
           {
            "aaxis": {
             "endlinecolor": "#2a3f5f",
             "gridcolor": "white",
             "linecolor": "white",
             "minorgridcolor": "white",
             "startlinecolor": "#2a3f5f"
            },
            "baxis": {
             "endlinecolor": "#2a3f5f",
             "gridcolor": "white",
             "linecolor": "white",
             "minorgridcolor": "white",
             "startlinecolor": "#2a3f5f"
            },
            "type": "carpet"
           }
          ],
          "choropleth": [
           {
            "colorbar": {
             "outlinewidth": 0,
             "ticks": ""
            },
            "type": "choropleth"
           }
          ],
          "contour": [
           {
            "colorbar": {
             "outlinewidth": 0,
             "ticks": ""
            },
            "colorscale": [
             [
              0,
              "#0d0887"
             ],
             [
              0.1111111111111111,
              "#46039f"
             ],
             [
              0.2222222222222222,
              "#7201a8"
             ],
             [
              0.3333333333333333,
              "#9c179e"
             ],
             [
              0.4444444444444444,
              "#bd3786"
             ],
             [
              0.5555555555555556,
              "#d8576b"
             ],
             [
              0.6666666666666666,
              "#ed7953"
             ],
             [
              0.7777777777777778,
              "#fb9f3a"
             ],
             [
              0.8888888888888888,
              "#fdca26"
             ],
             [
              1,
              "#f0f921"
             ]
            ],
            "type": "contour"
           }
          ],
          "contourcarpet": [
           {
            "colorbar": {
             "outlinewidth": 0,
             "ticks": ""
            },
            "type": "contourcarpet"
           }
          ],
          "heatmap": [
           {
            "colorbar": {
             "outlinewidth": 0,
             "ticks": ""
            },
            "colorscale": [
             [
              0,
              "#0d0887"
             ],
             [
              0.1111111111111111,
              "#46039f"
             ],
             [
              0.2222222222222222,
              "#7201a8"
             ],
             [
              0.3333333333333333,
              "#9c179e"
             ],
             [
              0.4444444444444444,
              "#bd3786"
             ],
             [
              0.5555555555555556,
              "#d8576b"
             ],
             [
              0.6666666666666666,
              "#ed7953"
             ],
             [
              0.7777777777777778,
              "#fb9f3a"
             ],
             [
              0.8888888888888888,
              "#fdca26"
             ],
             [
              1,
              "#f0f921"
             ]
            ],
            "type": "heatmap"
           }
          ],
          "heatmapgl": [
           {
            "colorbar": {
             "outlinewidth": 0,
             "ticks": ""
            },
            "colorscale": [
             [
              0,
              "#0d0887"
             ],
             [
              0.1111111111111111,
              "#46039f"
             ],
             [
              0.2222222222222222,
              "#7201a8"
             ],
             [
              0.3333333333333333,
              "#9c179e"
             ],
             [
              0.4444444444444444,
              "#bd3786"
             ],
             [
              0.5555555555555556,
              "#d8576b"
             ],
             [
              0.6666666666666666,
              "#ed7953"
             ],
             [
              0.7777777777777778,
              "#fb9f3a"
             ],
             [
              0.8888888888888888,
              "#fdca26"
             ],
             [
              1,
              "#f0f921"
             ]
            ],
            "type": "heatmapgl"
           }
          ],
          "histogram": [
           {
            "marker": {
             "pattern": {
              "fillmode": "overlay",
              "size": 10,
              "solidity": 0.2
             }
            },
            "type": "histogram"
           }
          ],
          "histogram2d": [
           {
            "colorbar": {
             "outlinewidth": 0,
             "ticks": ""
            },
            "colorscale": [
             [
              0,
              "#0d0887"
             ],
             [
              0.1111111111111111,
              "#46039f"
             ],
             [
              0.2222222222222222,
              "#7201a8"
             ],
             [
              0.3333333333333333,
              "#9c179e"
             ],
             [
              0.4444444444444444,
              "#bd3786"
             ],
             [
              0.5555555555555556,
              "#d8576b"
             ],
             [
              0.6666666666666666,
              "#ed7953"
             ],
             [
              0.7777777777777778,
              "#fb9f3a"
             ],
             [
              0.8888888888888888,
              "#fdca26"
             ],
             [
              1,
              "#f0f921"
             ]
            ],
            "type": "histogram2d"
           }
          ],
          "histogram2dcontour": [
           {
            "colorbar": {
             "outlinewidth": 0,
             "ticks": ""
            },
            "colorscale": [
             [
              0,
              "#0d0887"
             ],
             [
              0.1111111111111111,
              "#46039f"
             ],
             [
              0.2222222222222222,
              "#7201a8"
             ],
             [
              0.3333333333333333,
              "#9c179e"
             ],
             [
              0.4444444444444444,
              "#bd3786"
             ],
             [
              0.5555555555555556,
              "#d8576b"
             ],
             [
              0.6666666666666666,
              "#ed7953"
             ],
             [
              0.7777777777777778,
              "#fb9f3a"
             ],
             [
              0.8888888888888888,
              "#fdca26"
             ],
             [
              1,
              "#f0f921"
             ]
            ],
            "type": "histogram2dcontour"
           }
          ],
          "mesh3d": [
           {
            "colorbar": {
             "outlinewidth": 0,
             "ticks": ""
            },
            "type": "mesh3d"
           }
          ],
          "parcoords": [
           {
            "line": {
             "colorbar": {
              "outlinewidth": 0,
              "ticks": ""
             }
            },
            "type": "parcoords"
           }
          ],
          "pie": [
           {
            "automargin": true,
            "type": "pie"
           }
          ],
          "scatter": [
           {
            "marker": {
             "colorbar": {
              "outlinewidth": 0,
              "ticks": ""
             }
            },
            "type": "scatter"
           }
          ],
          "scatter3d": [
           {
            "line": {
             "colorbar": {
              "outlinewidth": 0,
              "ticks": ""
             }
            },
            "marker": {
             "colorbar": {
              "outlinewidth": 0,
              "ticks": ""
             }
            },
            "type": "scatter3d"
           }
          ],
          "scattercarpet": [
           {
            "marker": {
             "colorbar": {
              "outlinewidth": 0,
              "ticks": ""
             }
            },
            "type": "scattercarpet"
           }
          ],
          "scattergeo": [
           {
            "marker": {
             "colorbar": {
              "outlinewidth": 0,
              "ticks": ""
             }
            },
            "type": "scattergeo"
           }
          ],
          "scattergl": [
           {
            "marker": {
             "colorbar": {
              "outlinewidth": 0,
              "ticks": ""
             }
            },
            "type": "scattergl"
           }
          ],
          "scattermapbox": [
           {
            "marker": {
             "colorbar": {
              "outlinewidth": 0,
              "ticks": ""
             }
            },
            "type": "scattermapbox"
           }
          ],
          "scatterpolar": [
           {
            "marker": {
             "colorbar": {
              "outlinewidth": 0,
              "ticks": ""
             }
            },
            "type": "scatterpolar"
           }
          ],
          "scatterpolargl": [
           {
            "marker": {
             "colorbar": {
              "outlinewidth": 0,
              "ticks": ""
             }
            },
            "type": "scatterpolargl"
           }
          ],
          "scatterternary": [
           {
            "marker": {
             "colorbar": {
              "outlinewidth": 0,
              "ticks": ""
             }
            },
            "type": "scatterternary"
           }
          ],
          "surface": [
           {
            "colorbar": {
             "outlinewidth": 0,
             "ticks": ""
            },
            "colorscale": [
             [
              0,
              "#0d0887"
             ],
             [
              0.1111111111111111,
              "#46039f"
             ],
             [
              0.2222222222222222,
              "#7201a8"
             ],
             [
              0.3333333333333333,
              "#9c179e"
             ],
             [
              0.4444444444444444,
              "#bd3786"
             ],
             [
              0.5555555555555556,
              "#d8576b"
             ],
             [
              0.6666666666666666,
              "#ed7953"
             ],
             [
              0.7777777777777778,
              "#fb9f3a"
             ],
             [
              0.8888888888888888,
              "#fdca26"
             ],
             [
              1,
              "#f0f921"
             ]
            ],
            "type": "surface"
           }
          ],
          "table": [
           {
            "cells": {
             "fill": {
              "color": "#EBF0F8"
             },
             "line": {
              "color": "white"
             }
            },
            "header": {
             "fill": {
              "color": "#C8D4E3"
             },
             "line": {
              "color": "white"
             }
            },
            "type": "table"
           }
          ]
         },
         "layout": {
          "annotationdefaults": {
           "arrowcolor": "#2a3f5f",
           "arrowhead": 0,
           "arrowwidth": 1
          },
          "autotypenumbers": "strict",
          "coloraxis": {
           "colorbar": {
            "outlinewidth": 0,
            "ticks": ""
           }
          },
          "colorscale": {
           "diverging": [
            [
             0,
             "#8e0152"
            ],
            [
             0.1,
             "#c51b7d"
            ],
            [
             0.2,
             "#de77ae"
            ],
            [
             0.3,
             "#f1b6da"
            ],
            [
             0.4,
             "#fde0ef"
            ],
            [
             0.5,
             "#f7f7f7"
            ],
            [
             0.6,
             "#e6f5d0"
            ],
            [
             0.7,
             "#b8e186"
            ],
            [
             0.8,
             "#7fbc41"
            ],
            [
             0.9,
             "#4d9221"
            ],
            [
             1,
             "#276419"
            ]
           ],
           "sequential": [
            [
             0,
             "#0d0887"
            ],
            [
             0.1111111111111111,
             "#46039f"
            ],
            [
             0.2222222222222222,
             "#7201a8"
            ],
            [
             0.3333333333333333,
             "#9c179e"
            ],
            [
             0.4444444444444444,
             "#bd3786"
            ],
            [
             0.5555555555555556,
             "#d8576b"
            ],
            [
             0.6666666666666666,
             "#ed7953"
            ],
            [
             0.7777777777777778,
             "#fb9f3a"
            ],
            [
             0.8888888888888888,
             "#fdca26"
            ],
            [
             1,
             "#f0f921"
            ]
           ],
           "sequentialminus": [
            [
             0,
             "#0d0887"
            ],
            [
             0.1111111111111111,
             "#46039f"
            ],
            [
             0.2222222222222222,
             "#7201a8"
            ],
            [
             0.3333333333333333,
             "#9c179e"
            ],
            [
             0.4444444444444444,
             "#bd3786"
            ],
            [
             0.5555555555555556,
             "#d8576b"
            ],
            [
             0.6666666666666666,
             "#ed7953"
            ],
            [
             0.7777777777777778,
             "#fb9f3a"
            ],
            [
             0.8888888888888888,
             "#fdca26"
            ],
            [
             1,
             "#f0f921"
            ]
           ]
          },
          "colorway": [
           "#636efa",
           "#EF553B",
           "#00cc96",
           "#ab63fa",
           "#FFA15A",
           "#19d3f3",
           "#FF6692",
           "#B6E880",
           "#FF97FF",
           "#FECB52"
          ],
          "font": {
           "color": "#2a3f5f"
          },
          "geo": {
           "bgcolor": "white",
           "lakecolor": "white",
           "landcolor": "#E5ECF6",
           "showlakes": true,
           "showland": true,
           "subunitcolor": "white"
          },
          "hoverlabel": {
           "align": "left"
          },
          "hovermode": "closest",
          "mapbox": {
           "style": "light"
          },
          "paper_bgcolor": "white",
          "plot_bgcolor": "#E5ECF6",
          "polar": {
           "angularaxis": {
            "gridcolor": "white",
            "linecolor": "white",
            "ticks": ""
           },
           "bgcolor": "#E5ECF6",
           "radialaxis": {
            "gridcolor": "white",
            "linecolor": "white",
            "ticks": ""
           }
          },
          "scene": {
           "xaxis": {
            "backgroundcolor": "#E5ECF6",
            "gridcolor": "white",
            "gridwidth": 2,
            "linecolor": "white",
            "showbackground": true,
            "ticks": "",
            "zerolinecolor": "white"
           },
           "yaxis": {
            "backgroundcolor": "#E5ECF6",
            "gridcolor": "white",
            "gridwidth": 2,
            "linecolor": "white",
            "showbackground": true,
            "ticks": "",
            "zerolinecolor": "white"
           },
           "zaxis": {
            "backgroundcolor": "#E5ECF6",
            "gridcolor": "white",
            "gridwidth": 2,
            "linecolor": "white",
            "showbackground": true,
            "ticks": "",
            "zerolinecolor": "white"
           }
          },
          "shapedefaults": {
           "line": {
            "color": "#2a3f5f"
           }
          },
          "ternary": {
           "aaxis": {
            "gridcolor": "white",
            "linecolor": "white",
            "ticks": ""
           },
           "baxis": {
            "gridcolor": "white",
            "linecolor": "white",
            "ticks": ""
           },
           "bgcolor": "#E5ECF6",
           "caxis": {
            "gridcolor": "white",
            "linecolor": "white",
            "ticks": ""
           }
          },
          "title": {
           "x": 0.05
          },
          "xaxis": {
           "automargin": true,
           "gridcolor": "white",
           "linecolor": "white",
           "ticks": "",
           "title": {
            "standoff": 15
           },
           "zerolinecolor": "white",
           "zerolinewidth": 2
          },
          "yaxis": {
           "automargin": true,
           "gridcolor": "white",
           "linecolor": "white",
           "ticks": "",
           "title": {
            "standoff": 15
           },
           "zerolinecolor": "white",
           "zerolinewidth": 2
          }
         }
        },
        "title": {
         "text": "A Steady Passion For Pets?! US Dog and Cat Population"
        }
       }
      },
      "text/html": [
       "<div>                            <div id=\"17abbabe-7f20-42e0-bd6a-4734803c9f3b\" class=\"plotly-graph-div\" style=\"height:525px; width:100%;\"></div>            <script type=\"text/javascript\">                require([\"plotly\"], function(Plotly) {                    window.PLOTLYENV=window.PLOTLYENV || {};                                    if (document.getElementById(\"17abbabe-7f20-42e0-bd6a-4734803c9f3b\")) {                    Plotly.newPlot(                        \"17abbabe-7f20-42e0-bd6a-4734803c9f3b\",                        [{\"colorscale\":[[0.0,\"rgb(27, 158, 119)\"],[1.0,\"rgb(27, 158, 119)\"]],\"customdata\":[[5565,7163],[1749,2157],[1438,1798],[1653,1978],[2162,2479]],\"geo\":\"geo\",\"hovertemplate\":\"<b>%{hovertext}</b><br><br>Cat vs Dog Popularity=dog<br>state=%{location}<br>Cat Population (in 1000)=%{customdata[0]}<br>Dog Population (in 1000)=%{customdata[1]}<extra></extra>\",\"hovertext\":[\"Texas\",\"Tennessee\",\"Arizona\",\"Missouri\",\"Georgia\"],\"locationmode\":\"USA-states\",\"locations\":[\"TX\",\"TN\",\"AZ\",\"MO\",\"GA\"],\"name\":\"dog\",\"showlegend\":true,\"showscale\":false,\"type\":\"choropleth\",\"z\":[1,1,1,1,1]},{\"colorscale\":[[0.0,\"rgb(102, 194, 165)\"],[1.0,\"rgb(102, 194, 165)\"]],\"customdata\":[[2220,2518],[810,1097],[1041,1327],[877,1115],[1349,1531],[668,846],[533,703],[1191,1349],[1252,1410],[1039,1191]],\"geo\":\"geo\",\"hovertemplate\":\"<b>%{hovertext}</b><br><br>Cat vs Dog Popularity=dog (moderate)<br>state=%{location}<br>Cat Population (in 1000)=%{customdata[0]}<br>Dog Population (in 1000)=%{customdata[1]}<extra></extra>\",\"hovertext\":[\"North Carolina\",\"Arkansas\",\"Oklahoma\",\"Louisiana\",\"Kentucky\",\"Mississippi\",\"New Mexico\",\"Colorado\",\"Alabama\",\"South Carolina\"],\"locationmode\":\"USA-states\",\"locations\":[\"NC\",\"AR\",\"OK\",\"LA\",\"KY\",\"MS\",\"NM\",\"CO\",\"AL\",\"SC\"],\"name\":\"dog (moderate)\",\"showlegend\":true,\"showscale\":false,\"type\":\"choropleth\",\"z\":[1,1,1,1,1,1,1,1,1,1]},{\"colorscale\":[[0.0,\"rgb(255, 255, 204)\"],[1.0,\"rgb(255, 255, 204)\"]],\"customdata\":[[731,774],[628,648],[277,282],[144,125],[63,42],[187,163],[174,139],[393,357],[455,410],[625,578],[212,161],[290,220],[2453,2365],[234,142],[309,212]],\"geo\":\"geo\",\"hovertemplate\":\"<b>%{hovertext}</b><br><br>Cat vs Dog Popularity=almost equal<br>state=%{location}<br>Cat Population (in 1000)=%{customdata[0]}<br>Dog Population (in 1000)=%{customdata[1]}<extra></extra>\",\"hovertext\":[\"Kansas\",\"West Virginia\",\"Montana\",\"Wyoming\",\"District of Columbia\",\"Delaware\",\"North Dakota\",\"Idaho\",\"Utah\",\"Nevada\",\"Rhode Island\",\"South Dakota\",\"Illinois\",\"Vermont\",\"New Hampshire\"],\"locationmode\":\"USA-states\",\"locations\":[\"KS\",\"WV\",\"MT\",\"WY\",\"DC\",\"DE\",\"ND\",\"ID\",\"UT\",\"NV\",\"RI\",\"SD\",\"IL\",\"VT\",\"NH\"],\"name\":\"almost equal\",\"showlegend\":true,\"showscale\":false,\"type\":\"choropleth\",\"z\":[1,1,1,1,1,1,1,1,1,1,1,1,1,1,1]},{\"colorscale\":[[0.0,\"rgb(222, 203, 228)\"],[1.0,\"rgb(222, 203, 228)\"]],\"customdata\":[[1468,1340],[514,374],[1855,1699],[4375,4210],[805,610],[498,300],[1844,1609],[1185,917],[796,507],[1912,1619]],\"geo\":\"geo\",\"hovertemplate\":\"<b>%{hovertext}</b><br><br>Cat vs Dog Popularity=cat (moderate)<br>state=%{location}<br>Cat Population (in 1000)=%{customdata[0]}<br>Dog Population (in 1000)=%{customdata[1]}<extra></extra>\",\"hovertext\":[\"New Jersey\",\"Nebraska\",\"Virginia\",\"Florida\",\"Iowa\",\"Maine\",\"Washington\",\"Oregon\",\"Connecticut\",\"Indiana\"],\"locationmode\":\"USA-states\",\"locations\":[\"NJ\",\"NE\",\"VA\",\"FL\",\"IA\",\"ME\",\"WA\",\"OR\",\"CT\",\"IN\"],\"name\":\"cat (moderate)\",\"showlegend\":true,\"showscale\":false,\"type\":\"choropleth\",\"z\":[1,1,1,1,1,1,1,1,1,1]},{\"colorscale\":[[0.0,\"rgb(152, 78, 163)\"],[1.0,\"rgb(152, 78, 163)\"]],\"customdata\":[[1264,934],[1510,1138],[2420,2036],[7118,6687],[1593,850],[1677,915],[3786,2730],[3544,2485],[4261,3054]],\"geo\":\"geo\",\"hovertemplate\":\"<b>%{hovertext}</b><br><br>Cat vs Dog Popularity=cat<br>state=%{location}<br>Cat Population (in 1000)=%{customdata[0]}<br>Dog Population (in 1000)=%{customdata[1]}<extra></extra>\",\"hovertext\":[\"Minnesota\",\"Wisconsin\",\"Michigan\",\"California\",\"Massachusetts\",\"Maryland\",\"Ohio\",\"Pennsylvania\",\"New York\"],\"locationmode\":\"USA-states\",\"locations\":[\"MN\",\"WI\",\"MI\",\"CA\",\"MA\",\"MD\",\"OH\",\"PA\",\"NY\"],\"name\":\"cat\",\"showlegend\":true,\"showscale\":false,\"type\":\"choropleth\",\"z\":[1,1,1,1,1,1,1,1,1]}],                        {\"geo\":{\"center\":{},\"domain\":{\"x\":[0.0,1.0],\"y\":[0.0,1.0]},\"scope\":\"usa\"},\"legend\":{\"title\":{\"text\":\"Cat vs Dog Popularity\"},\"tracegroupgap\":0},\"template\":{\"data\":{\"bar\":[{\"error_x\":{\"color\":\"#2a3f5f\"},\"error_y\":{\"color\":\"#2a3f5f\"},\"marker\":{\"line\":{\"color\":\"#E5ECF6\",\"width\":0.5},\"pattern\":{\"fillmode\":\"overlay\",\"size\":10,\"solidity\":0.2}},\"type\":\"bar\"}],\"barpolar\":[{\"marker\":{\"line\":{\"color\":\"#E5ECF6\",\"width\":0.5},\"pattern\":{\"fillmode\":\"overlay\",\"size\":10,\"solidity\":0.2}},\"type\":\"barpolar\"}],\"carpet\":[{\"aaxis\":{\"endlinecolor\":\"#2a3f5f\",\"gridcolor\":\"white\",\"linecolor\":\"white\",\"minorgridcolor\":\"white\",\"startlinecolor\":\"#2a3f5f\"},\"baxis\":{\"endlinecolor\":\"#2a3f5f\",\"gridcolor\":\"white\",\"linecolor\":\"white\",\"minorgridcolor\":\"white\",\"startlinecolor\":\"#2a3f5f\"},\"type\":\"carpet\"}],\"choropleth\":[{\"colorbar\":{\"outlinewidth\":0,\"ticks\":\"\"},\"type\":\"choropleth\"}],\"contour\":[{\"colorbar\":{\"outlinewidth\":0,\"ticks\":\"\"},\"colorscale\":[[0.0,\"#0d0887\"],[0.1111111111111111,\"#46039f\"],[0.2222222222222222,\"#7201a8\"],[0.3333333333333333,\"#9c179e\"],[0.4444444444444444,\"#bd3786\"],[0.5555555555555556,\"#d8576b\"],[0.6666666666666666,\"#ed7953\"],[0.7777777777777778,\"#fb9f3a\"],[0.8888888888888888,\"#fdca26\"],[1.0,\"#f0f921\"]],\"type\":\"contour\"}],\"contourcarpet\":[{\"colorbar\":{\"outlinewidth\":0,\"ticks\":\"\"},\"type\":\"contourcarpet\"}],\"heatmap\":[{\"colorbar\":{\"outlinewidth\":0,\"ticks\":\"\"},\"colorscale\":[[0.0,\"#0d0887\"],[0.1111111111111111,\"#46039f\"],[0.2222222222222222,\"#7201a8\"],[0.3333333333333333,\"#9c179e\"],[0.4444444444444444,\"#bd3786\"],[0.5555555555555556,\"#d8576b\"],[0.6666666666666666,\"#ed7953\"],[0.7777777777777778,\"#fb9f3a\"],[0.8888888888888888,\"#fdca26\"],[1.0,\"#f0f921\"]],\"type\":\"heatmap\"}],\"heatmapgl\":[{\"colorbar\":{\"outlinewidth\":0,\"ticks\":\"\"},\"colorscale\":[[0.0,\"#0d0887\"],[0.1111111111111111,\"#46039f\"],[0.2222222222222222,\"#7201a8\"],[0.3333333333333333,\"#9c179e\"],[0.4444444444444444,\"#bd3786\"],[0.5555555555555556,\"#d8576b\"],[0.6666666666666666,\"#ed7953\"],[0.7777777777777778,\"#fb9f3a\"],[0.8888888888888888,\"#fdca26\"],[1.0,\"#f0f921\"]],\"type\":\"heatmapgl\"}],\"histogram\":[{\"marker\":{\"pattern\":{\"fillmode\":\"overlay\",\"size\":10,\"solidity\":0.2}},\"type\":\"histogram\"}],\"histogram2d\":[{\"colorbar\":{\"outlinewidth\":0,\"ticks\":\"\"},\"colorscale\":[[0.0,\"#0d0887\"],[0.1111111111111111,\"#46039f\"],[0.2222222222222222,\"#7201a8\"],[0.3333333333333333,\"#9c179e\"],[0.4444444444444444,\"#bd3786\"],[0.5555555555555556,\"#d8576b\"],[0.6666666666666666,\"#ed7953\"],[0.7777777777777778,\"#fb9f3a\"],[0.8888888888888888,\"#fdca26\"],[1.0,\"#f0f921\"]],\"type\":\"histogram2d\"}],\"histogram2dcontour\":[{\"colorbar\":{\"outlinewidth\":0,\"ticks\":\"\"},\"colorscale\":[[0.0,\"#0d0887\"],[0.1111111111111111,\"#46039f\"],[0.2222222222222222,\"#7201a8\"],[0.3333333333333333,\"#9c179e\"],[0.4444444444444444,\"#bd3786\"],[0.5555555555555556,\"#d8576b\"],[0.6666666666666666,\"#ed7953\"],[0.7777777777777778,\"#fb9f3a\"],[0.8888888888888888,\"#fdca26\"],[1.0,\"#f0f921\"]],\"type\":\"histogram2dcontour\"}],\"mesh3d\":[{\"colorbar\":{\"outlinewidth\":0,\"ticks\":\"\"},\"type\":\"mesh3d\"}],\"parcoords\":[{\"line\":{\"colorbar\":{\"outlinewidth\":0,\"ticks\":\"\"}},\"type\":\"parcoords\"}],\"pie\":[{\"automargin\":true,\"type\":\"pie\"}],\"scatter\":[{\"marker\":{\"colorbar\":{\"outlinewidth\":0,\"ticks\":\"\"}},\"type\":\"scatter\"}],\"scatter3d\":[{\"line\":{\"colorbar\":{\"outlinewidth\":0,\"ticks\":\"\"}},\"marker\":{\"colorbar\":{\"outlinewidth\":0,\"ticks\":\"\"}},\"type\":\"scatter3d\"}],\"scattercarpet\":[{\"marker\":{\"colorbar\":{\"outlinewidth\":0,\"ticks\":\"\"}},\"type\":\"scattercarpet\"}],\"scattergeo\":[{\"marker\":{\"colorbar\":{\"outlinewidth\":0,\"ticks\":\"\"}},\"type\":\"scattergeo\"}],\"scattergl\":[{\"marker\":{\"colorbar\":{\"outlinewidth\":0,\"ticks\":\"\"}},\"type\":\"scattergl\"}],\"scattermapbox\":[{\"marker\":{\"colorbar\":{\"outlinewidth\":0,\"ticks\":\"\"}},\"type\":\"scattermapbox\"}],\"scatterpolar\":[{\"marker\":{\"colorbar\":{\"outlinewidth\":0,\"ticks\":\"\"}},\"type\":\"scatterpolar\"}],\"scatterpolargl\":[{\"marker\":{\"colorbar\":{\"outlinewidth\":0,\"ticks\":\"\"}},\"type\":\"scatterpolargl\"}],\"scatterternary\":[{\"marker\":{\"colorbar\":{\"outlinewidth\":0,\"ticks\":\"\"}},\"type\":\"scatterternary\"}],\"surface\":[{\"colorbar\":{\"outlinewidth\":0,\"ticks\":\"\"},\"colorscale\":[[0.0,\"#0d0887\"],[0.1111111111111111,\"#46039f\"],[0.2222222222222222,\"#7201a8\"],[0.3333333333333333,\"#9c179e\"],[0.4444444444444444,\"#bd3786\"],[0.5555555555555556,\"#d8576b\"],[0.6666666666666666,\"#ed7953\"],[0.7777777777777778,\"#fb9f3a\"],[0.8888888888888888,\"#fdca26\"],[1.0,\"#f0f921\"]],\"type\":\"surface\"}],\"table\":[{\"cells\":{\"fill\":{\"color\":\"#EBF0F8\"},\"line\":{\"color\":\"white\"}},\"header\":{\"fill\":{\"color\":\"#C8D4E3\"},\"line\":{\"color\":\"white\"}},\"type\":\"table\"}]},\"layout\":{\"annotationdefaults\":{\"arrowcolor\":\"#2a3f5f\",\"arrowhead\":0,\"arrowwidth\":1},\"autotypenumbers\":\"strict\",\"coloraxis\":{\"colorbar\":{\"outlinewidth\":0,\"ticks\":\"\"}},\"colorscale\":{\"diverging\":[[0,\"#8e0152\"],[0.1,\"#c51b7d\"],[0.2,\"#de77ae\"],[0.3,\"#f1b6da\"],[0.4,\"#fde0ef\"],[0.5,\"#f7f7f7\"],[0.6,\"#e6f5d0\"],[0.7,\"#b8e186\"],[0.8,\"#7fbc41\"],[0.9,\"#4d9221\"],[1,\"#276419\"]],\"sequential\":[[0.0,\"#0d0887\"],[0.1111111111111111,\"#46039f\"],[0.2222222222222222,\"#7201a8\"],[0.3333333333333333,\"#9c179e\"],[0.4444444444444444,\"#bd3786\"],[0.5555555555555556,\"#d8576b\"],[0.6666666666666666,\"#ed7953\"],[0.7777777777777778,\"#fb9f3a\"],[0.8888888888888888,\"#fdca26\"],[1.0,\"#f0f921\"]],\"sequentialminus\":[[0.0,\"#0d0887\"],[0.1111111111111111,\"#46039f\"],[0.2222222222222222,\"#7201a8\"],[0.3333333333333333,\"#9c179e\"],[0.4444444444444444,\"#bd3786\"],[0.5555555555555556,\"#d8576b\"],[0.6666666666666666,\"#ed7953\"],[0.7777777777777778,\"#fb9f3a\"],[0.8888888888888888,\"#fdca26\"],[1.0,\"#f0f921\"]]},\"colorway\":[\"#636efa\",\"#EF553B\",\"#00cc96\",\"#ab63fa\",\"#FFA15A\",\"#19d3f3\",\"#FF6692\",\"#B6E880\",\"#FF97FF\",\"#FECB52\"],\"font\":{\"color\":\"#2a3f5f\"},\"geo\":{\"bgcolor\":\"white\",\"lakecolor\":\"white\",\"landcolor\":\"#E5ECF6\",\"showlakes\":true,\"showland\":true,\"subunitcolor\":\"white\"},\"hoverlabel\":{\"align\":\"left\"},\"hovermode\":\"closest\",\"mapbox\":{\"style\":\"light\"},\"paper_bgcolor\":\"white\",\"plot_bgcolor\":\"#E5ECF6\",\"polar\":{\"angularaxis\":{\"gridcolor\":\"white\",\"linecolor\":\"white\",\"ticks\":\"\"},\"bgcolor\":\"#E5ECF6\",\"radialaxis\":{\"gridcolor\":\"white\",\"linecolor\":\"white\",\"ticks\":\"\"}},\"scene\":{\"xaxis\":{\"backgroundcolor\":\"#E5ECF6\",\"gridcolor\":\"white\",\"gridwidth\":2,\"linecolor\":\"white\",\"showbackground\":true,\"ticks\":\"\",\"zerolinecolor\":\"white\"},\"yaxis\":{\"backgroundcolor\":\"#E5ECF6\",\"gridcolor\":\"white\",\"gridwidth\":2,\"linecolor\":\"white\",\"showbackground\":true,\"ticks\":\"\",\"zerolinecolor\":\"white\"},\"zaxis\":{\"backgroundcolor\":\"#E5ECF6\",\"gridcolor\":\"white\",\"gridwidth\":2,\"linecolor\":\"white\",\"showbackground\":true,\"ticks\":\"\",\"zerolinecolor\":\"white\"}},\"shapedefaults\":{\"line\":{\"color\":\"#2a3f5f\"}},\"ternary\":{\"aaxis\":{\"gridcolor\":\"white\",\"linecolor\":\"white\",\"ticks\":\"\"},\"baxis\":{\"gridcolor\":\"white\",\"linecolor\":\"white\",\"ticks\":\"\"},\"bgcolor\":\"#E5ECF6\",\"caxis\":{\"gridcolor\":\"white\",\"linecolor\":\"white\",\"ticks\":\"\"}},\"title\":{\"x\":0.05},\"xaxis\":{\"automargin\":true,\"gridcolor\":\"white\",\"linecolor\":\"white\",\"ticks\":\"\",\"title\":{\"standoff\":15},\"zerolinecolor\":\"white\",\"zerolinewidth\":2},\"yaxis\":{\"automargin\":true,\"gridcolor\":\"white\",\"linecolor\":\"white\",\"ticks\":\"\",\"title\":{\"standoff\":15},\"zerolinecolor\":\"white\",\"zerolinewidth\":2}}},\"title\":{\"text\":\"A Steady Passion For Pets?! US Dog and Cat Population\"}},                        {\"responsive\": true}                    ).then(function(){\n",
       "                            \n",
       "var gd = document.getElementById('17abbabe-7f20-42e0-bd6a-4734803c9f3b');\n",
       "var x = new MutationObserver(function (mutations, observer) {{\n",
       "        var display = window.getComputedStyle(gd).display;\n",
       "        if (!display || display === 'none') {{\n",
       "            console.log([gd, 'removed!']);\n",
       "            Plotly.purge(gd);\n",
       "            observer.disconnect();\n",
       "        }}\n",
       "}});\n",
       "\n",
       "// Listen for the removal of the full notebook cells\n",
       "var notebookContainer = gd.closest('#notebook-container');\n",
       "if (notebookContainer) {{\n",
       "    x.observe(notebookContainer, {childList: true});\n",
       "}}\n",
       "\n",
       "// Listen for the clearing of the current output cell\n",
       "var outputEl = gd.closest('.output');\n",
       "if (outputEl) {{\n",
       "    x.observe(outputEl, {childList: true});\n",
       "}}\n",
       "\n",
       "                        })                };                });            </script>        </div>"
      ]
     },
     "metadata": {},
     "output_type": "display_data"
    }
   ],
   "source": [
    "colors = {'dog':'rgb(27, 158, 119)',\n",
    "          'dog (moderate)':'rgb(102, 194, 165)',\n",
    "          'cat':'rgb(152, 78, 163)',\n",
    "          'cat (moderate)':'rgb(222, 203, 228)',\n",
    "          'almost equal':'rgb(255, 255, 204)'}\n",
    "import plotly.express as px\n",
    "fig = px.choropleth(df, \n",
    "                    locations='state', \n",
    "                    locationmode=\"USA-states\", \n",
    "                    scope=\"usa\", \n",
    "                    color=\"Population Majority Cat vs Dog\",\n",
    "                    color_discrete_map=colors, \n",
    "                    #range_color=(0, 3), \n",
    "                    #color=\"Mean Number of Dogs per household\",\n",
    "                    labels={'Population Majority Cat vs Dog':'Cat vs Dog Popularity'},\n",
    "                    hover_name=\"Location\", \n",
    "                    hover_data=[\"Cat Population (in 1000)\",\n",
    "                                \"Dog Population (in 1000)\"], \n",
    "                    title=\"A Steady Passion For Pets?! US Dog and Cat Population\")\n",
    "\n",
    "#fig.update_layout(height=600, width=800)\n",
    "fig.show()"
   ]
  },
  {
   "cell_type": "code",
   "execution_count": 251,
   "metadata": {
    "scrolled": true
   },
   "outputs": [
    {
     "data": {
      "application/vnd.plotly.v1+json": {
       "config": {
        "plotlyServerURL": "https://plot.ly"
       },
       "data": [
        {
         "alignmentgroup": "True",
         "customdata": [
          [
           58.5,
           9002
          ],
          [
           59.6,
           2583
          ],
          [
           59.5,
           2515
          ],
          [
           61.4,
           2498
          ],
          [
           55.1,
           3798
          ],
          [
           56.4,
           3701
          ],
          [
           62.4,
           1148
          ],
          [
           58.9,
           1479
          ],
          [
           55.1,
           1702
          ],
          [
           61.6,
           1777
          ],
          [
           56.4,
           1115
          ],
          [
           67.6,
           773
          ],
          [
           61.3,
           1986
          ],
          [
           59.5,
           1828
          ],
          [
           54.1,
           1759
          ],
          [
           61,
           1133
          ],
          [
           62.1,
           765
          ],
          [
           61.3,
           410
          ],
          [
           61.8,
           221
          ],
          [
           21.9,
           287
          ],
          [
           56.6,
           334
          ],
          [
           53.9,
           272
          ],
          [
           62,
           568
          ],
          [
           51.2,
           930
          ],
          [
           55.6,
           986
          ],
          [
           53,
           434
          ],
          [
           65.6,
           333
          ],
          [
           51.8,
           5026
          ],
          [
           70.8,
           265
          ],
          [
           56.8,
           508
          ],
          [
           50.7,
           3177
          ],
          [
           51.3,
           710
          ],
          [
           53.4,
           3017
          ],
          [
           54.4,
           7609
          ],
          [
           53.6,
           1219
          ],
          [
           62.9,
           548
          ],
          [
           62.7,
           2632
          ],
          [
           63.6,
           1505
          ],
          [
           54.4,
           1337
          ],
          [
           59.9,
           2478
          ],
          [
           53,
           2163
          ],
          [
           57.5,
           2350
          ],
          [
           55.4,
           3804
          ],
          [
           52.9,
           12974
          ],
          [
           50.4,
           2618
          ],
          [
           52.3,
           2169
          ],
          [
           57.4,
           4661
          ],
          [
           56.9,
           5172
          ],
          [
           50.6,
           7512
          ]
         ],
         "hovertemplate": "Category=Only Dog(s)<br>Percentage=%{x}<br>State=%{y}<br>Percentage of households with pets=%{customdata[0]}<br>Number of Households (in 1000)=%{customdata[1]}<extra></extra>",
         "legendgroup": "Only Dog(s)",
         "marker": {
          "color": "#ab63fa",
          "pattern": {
           "shape": ""
          }
         },
         "name": "Only Dog(s)",
         "offsetgroup": "Only Dog(s)",
         "orientation": "h",
         "showlegend": true,
         "textposition": "auto",
         "type": "bar",
         "x": [
          30.23,
          29.81,
          29.98,
          29.18,
          27.8,
          26.99,
          31.79,
          26.37,
          29.14,
          24.76,
          27.35,
          35.71,
          28.95,
          32.11,
          26.21,
          27.63,
          24.05,
          27.56,
          28.05,
          10.45,
          22.75,
          22.79,
          27.46,
          26.56,
          25.25,
          25.35,
          26.73,
          25.49,
          21.51,
          22.64,
          25.43,
          20,
          24.36,
          27.06,
          23.3,
          16.61,
          23.59,
          23.39,
          22.51,
          25.5,
          23.25,
          24.51,
          24.08,
          24.5,
          16.27,
          22.54,
          24.11,
          23.09,
          21.47
         ],
         "xaxis": "x",
         "y": [
          "Texas",
          "Tennessee",
          "Arizona",
          "Missouri",
          "Georgia",
          "North Carolina",
          "Arkansas",
          "Oklahoma",
          "Louisiana",
          "Kentucky",
          "Mississippi",
          "New Mexico",
          "Colorado",
          "Alabama",
          "South Carolina",
          "Kansas",
          "West Virginia",
          "Montana",
          "Wyoming",
          "District of Columbia",
          "Delaware",
          "North Dakota",
          "Idaho",
          "Utah",
          "Nevada",
          "Rhode Island",
          "South Dakota",
          "Illinois",
          "Vermont",
          "New Hampshire",
          "New Jersey",
          "Nebraska",
          "Virginia",
          "Florida",
          "Iowa",
          "Maine",
          "Washington",
          "Oregon",
          "Connecticut",
          "Indiana",
          "Minnesota",
          "Wisconsin",
          "Michigan",
          "California",
          "Massachusetts",
          "Maryland",
          "Ohio",
          "Pennsylvania",
          "New York"
         ],
         "yaxis": "y"
        },
        {
         "alignmentgroup": "True",
         "customdata": [
          [
           58.5,
           9002
          ],
          [
           59.6,
           2583
          ],
          [
           59.5,
           2515
          ],
          [
           61.4,
           2498
          ],
          [
           55.1,
           3798
          ],
          [
           56.4,
           3701
          ],
          [
           62.4,
           1148
          ],
          [
           58.9,
           1479
          ],
          [
           55.1,
           1702
          ],
          [
           61.6,
           1777
          ],
          [
           56.4,
           1115
          ],
          [
           67.6,
           773
          ],
          [
           61.3,
           1986
          ],
          [
           59.5,
           1828
          ],
          [
           54.1,
           1759
          ],
          [
           61,
           1133
          ],
          [
           62.1,
           765
          ],
          [
           61.3,
           410
          ],
          [
           61.8,
           221
          ],
          [
           21.9,
           287
          ],
          [
           56.6,
           334
          ],
          [
           53.9,
           272
          ],
          [
           62,
           568
          ],
          [
           51.2,
           930
          ],
          [
           55.6,
           986
          ],
          [
           53,
           434
          ],
          [
           65.6,
           333
          ],
          [
           51.8,
           5026
          ],
          [
           70.8,
           265
          ],
          [
           56.8,
           508
          ],
          [
           50.7,
           3177
          ],
          [
           51.3,
           710
          ],
          [
           53.4,
           3017
          ],
          [
           54.4,
           7609
          ],
          [
           53.6,
           1219
          ],
          [
           62.9,
           548
          ],
          [
           62.7,
           2632
          ],
          [
           63.6,
           1505
          ],
          [
           54.4,
           1337
          ],
          [
           59.9,
           2478
          ],
          [
           53,
           2163
          ],
          [
           57.5,
           2350
          ],
          [
           55.4,
           3804
          ],
          [
           52.9,
           12974
          ],
          [
           50.4,
           2618
          ],
          [
           52.3,
           2169
          ],
          [
           57.4,
           4661
          ],
          [
           56.9,
           5172
          ],
          [
           50.6,
           7512
          ]
         ],
         "hovertemplate": "Category=Only Cat(s)<br>Percentage=%{x}<br>State=%{y}<br>Percentage of households with pets=%{customdata[0]}<br>Number of Households (in 1000)=%{customdata[1]}<extra></extra>",
         "legendgroup": "Only Cat(s)",
         "marker": {
          "color": "#FFA15A",
          "pattern": {
           "shape": ""
          }
         },
         "name": "Only Cat(s)",
         "offsetgroup": "Only Cat(s)",
         "orientation": "h",
         "showlegend": true,
         "textposition": "auto",
         "type": "bar",
         "x": [
          14.5,
          15.49,
          19.44,
          15.45,
          15.03,
          16.16,
          14.46,
          15.82,
          18.68,
          15.64,
          11.21,
          21.6,
          18.73,
          15.37,
          15.52,
          18.62,
          16.34,
          20,
          23.08,
          8.71,
          22.75,
          18.01,
          19.37,
          21.83,
          18.46,
          23.73,
          22.82,
          19.4,
          33.21,
          26.57,
          18.35,
          17.46,
          17.96,
          18.66,
          20.26,
          28.28,
          26.41,
          24.78,
          26.1,
          19.98,
          21.08,
          23.66,
          20.77,
          20.08,
          26.74,
          21.53,
          20.79,
          23.98,
          21.63
         ],
         "xaxis": "x",
         "y": [
          "Texas",
          "Tennessee",
          "Arizona",
          "Missouri",
          "Georgia",
          "North Carolina",
          "Arkansas",
          "Oklahoma",
          "Louisiana",
          "Kentucky",
          "Mississippi",
          "New Mexico",
          "Colorado",
          "Alabama",
          "South Carolina",
          "Kansas",
          "West Virginia",
          "Montana",
          "Wyoming",
          "District of Columbia",
          "Delaware",
          "North Dakota",
          "Idaho",
          "Utah",
          "Nevada",
          "Rhode Island",
          "South Dakota",
          "Illinois",
          "Vermont",
          "New Hampshire",
          "New Jersey",
          "Nebraska",
          "Virginia",
          "Florida",
          "Iowa",
          "Maine",
          "Washington",
          "Oregon",
          "Connecticut",
          "Indiana",
          "Minnesota",
          "Wisconsin",
          "Michigan",
          "California",
          "Massachusetts",
          "Maryland",
          "Ohio",
          "Pennsylvania",
          "New York"
         ],
         "yaxis": "y"
        },
        {
         "alignmentgroup": "True",
         "customdata": [
          [
           58.5,
           9002
          ],
          [
           59.6,
           2583
          ],
          [
           59.5,
           2515
          ],
          [
           61.4,
           2498
          ],
          [
           55.1,
           3798
          ],
          [
           56.4,
           3701
          ],
          [
           62.4,
           1148
          ],
          [
           58.9,
           1479
          ],
          [
           55.1,
           1702
          ],
          [
           61.6,
           1777
          ],
          [
           56.4,
           1115
          ],
          [
           67.6,
           773
          ],
          [
           61.3,
           1986
          ],
          [
           59.5,
           1828
          ],
          [
           54.1,
           1759
          ],
          [
           61,
           1133
          ],
          [
           62.1,
           765
          ],
          [
           61.3,
           410
          ],
          [
           61.8,
           221
          ],
          [
           21.9,
           287
          ],
          [
           56.6,
           334
          ],
          [
           53.9,
           272
          ],
          [
           62,
           568
          ],
          [
           51.2,
           930
          ],
          [
           55.6,
           986
          ],
          [
           53,
           434
          ],
          [
           65.6,
           333
          ],
          [
           51.8,
           5026
          ],
          [
           70.8,
           265
          ],
          [
           56.8,
           508
          ],
          [
           50.7,
           3177
          ],
          [
           51.3,
           710
          ],
          [
           53.4,
           3017
          ],
          [
           54.4,
           7609
          ],
          [
           53.6,
           1219
          ],
          [
           62.9,
           548
          ],
          [
           62.7,
           2632
          ],
          [
           63.6,
           1505
          ],
          [
           54.4,
           1337
          ],
          [
           59.9,
           2478
          ],
          [
           53,
           2163
          ],
          [
           57.5,
           2350
          ],
          [
           55.4,
           3804
          ],
          [
           52.9,
           12974
          ],
          [
           50.4,
           2618
          ],
          [
           52.3,
           2169
          ],
          [
           57.4,
           4661
          ],
          [
           56.9,
           5172
          ],
          [
           50.6,
           7512
          ]
         ],
         "hovertemplate": "Category=Both Dog(s) and Cat(s)<br>Percentage=%{x}<br>State=%{y}<br>Percentage of households with pets=%{customdata[0]}<br>Number of Households (in 1000)=%{customdata[1]}<extra></extra>",
         "legendgroup": "Both Dog(s) and Cat(s)",
         "marker": {
          "color": "#19d3f3",
          "pattern": {
           "shape": ""
          }
         },
         "name": "Both Dog(s) and Cat(s)",
         "offsetgroup": "Both Dog(s) and Cat(s)",
         "orientation": "h",
         "showlegend": true,
         "textposition": "auto",
         "type": "bar",
         "x": [
          13.76,
          14.32,
          10.1,
          16.77,
          12.27,
          13.29,
          16.11,
          16.77,
          7.23,
          21.16,
          17.85,
          10.35,
          13.6,
          12.04,
          12.34,
          14.74,
          21.7,
          13.66,
          10.86,
          2.79,
          11.08,
          13.24,
          15.14,
          2.8,
          11.87,
          3.92,
          16.22,
          6.88,
          16.23,
          7.68,
          6.92,
          13.8,
          11.07,
          8.66,
          10.09,
          18.07,
          12.65,
          15.42,
          5.83,
          14.41,
          8.65,
          9.36,
          10.57,
          8.34,
          7.33,
          8.21,
          12.53,
          9.82,
          7.51
         ],
         "xaxis": "x",
         "y": [
          "Texas",
          "Tennessee",
          "Arizona",
          "Missouri",
          "Georgia",
          "North Carolina",
          "Arkansas",
          "Oklahoma",
          "Louisiana",
          "Kentucky",
          "Mississippi",
          "New Mexico",
          "Colorado",
          "Alabama",
          "South Carolina",
          "Kansas",
          "West Virginia",
          "Montana",
          "Wyoming",
          "District of Columbia",
          "Delaware",
          "North Dakota",
          "Idaho",
          "Utah",
          "Nevada",
          "Rhode Island",
          "South Dakota",
          "Illinois",
          "Vermont",
          "New Hampshire",
          "New Jersey",
          "Nebraska",
          "Virginia",
          "Florida",
          "Iowa",
          "Maine",
          "Washington",
          "Oregon",
          "Connecticut",
          "Indiana",
          "Minnesota",
          "Wisconsin",
          "Michigan",
          "California",
          "Massachusetts",
          "Maryland",
          "Ohio",
          "Pennsylvania",
          "New York"
         ],
         "yaxis": "y"
        }
       ],
       "layout": {
        "barmode": "relative",
        "legend": {
         "title": {
          "text": "Category"
         },
         "tracegroupgap": 0
        },
        "template": {
         "data": {
          "bar": [
           {
            "error_x": {
             "color": "#2a3f5f"
            },
            "error_y": {
             "color": "#2a3f5f"
            },
            "marker": {
             "line": {
              "color": "#E5ECF6",
              "width": 0.5
             },
             "pattern": {
              "fillmode": "overlay",
              "size": 10,
              "solidity": 0.2
             }
            },
            "type": "bar"
           }
          ],
          "barpolar": [
           {
            "marker": {
             "line": {
              "color": "#E5ECF6",
              "width": 0.5
             },
             "pattern": {
              "fillmode": "overlay",
              "size": 10,
              "solidity": 0.2
             }
            },
            "type": "barpolar"
           }
          ],
          "carpet": [
           {
            "aaxis": {
             "endlinecolor": "#2a3f5f",
             "gridcolor": "white",
             "linecolor": "white",
             "minorgridcolor": "white",
             "startlinecolor": "#2a3f5f"
            },
            "baxis": {
             "endlinecolor": "#2a3f5f",
             "gridcolor": "white",
             "linecolor": "white",
             "minorgridcolor": "white",
             "startlinecolor": "#2a3f5f"
            },
            "type": "carpet"
           }
          ],
          "choropleth": [
           {
            "colorbar": {
             "outlinewidth": 0,
             "ticks": ""
            },
            "type": "choropleth"
           }
          ],
          "contour": [
           {
            "colorbar": {
             "outlinewidth": 0,
             "ticks": ""
            },
            "colorscale": [
             [
              0,
              "#0d0887"
             ],
             [
              0.1111111111111111,
              "#46039f"
             ],
             [
              0.2222222222222222,
              "#7201a8"
             ],
             [
              0.3333333333333333,
              "#9c179e"
             ],
             [
              0.4444444444444444,
              "#bd3786"
             ],
             [
              0.5555555555555556,
              "#d8576b"
             ],
             [
              0.6666666666666666,
              "#ed7953"
             ],
             [
              0.7777777777777778,
              "#fb9f3a"
             ],
             [
              0.8888888888888888,
              "#fdca26"
             ],
             [
              1,
              "#f0f921"
             ]
            ],
            "type": "contour"
           }
          ],
          "contourcarpet": [
           {
            "colorbar": {
             "outlinewidth": 0,
             "ticks": ""
            },
            "type": "contourcarpet"
           }
          ],
          "heatmap": [
           {
            "colorbar": {
             "outlinewidth": 0,
             "ticks": ""
            },
            "colorscale": [
             [
              0,
              "#0d0887"
             ],
             [
              0.1111111111111111,
              "#46039f"
             ],
             [
              0.2222222222222222,
              "#7201a8"
             ],
             [
              0.3333333333333333,
              "#9c179e"
             ],
             [
              0.4444444444444444,
              "#bd3786"
             ],
             [
              0.5555555555555556,
              "#d8576b"
             ],
             [
              0.6666666666666666,
              "#ed7953"
             ],
             [
              0.7777777777777778,
              "#fb9f3a"
             ],
             [
              0.8888888888888888,
              "#fdca26"
             ],
             [
              1,
              "#f0f921"
             ]
            ],
            "type": "heatmap"
           }
          ],
          "heatmapgl": [
           {
            "colorbar": {
             "outlinewidth": 0,
             "ticks": ""
            },
            "colorscale": [
             [
              0,
              "#0d0887"
             ],
             [
              0.1111111111111111,
              "#46039f"
             ],
             [
              0.2222222222222222,
              "#7201a8"
             ],
             [
              0.3333333333333333,
              "#9c179e"
             ],
             [
              0.4444444444444444,
              "#bd3786"
             ],
             [
              0.5555555555555556,
              "#d8576b"
             ],
             [
              0.6666666666666666,
              "#ed7953"
             ],
             [
              0.7777777777777778,
              "#fb9f3a"
             ],
             [
              0.8888888888888888,
              "#fdca26"
             ],
             [
              1,
              "#f0f921"
             ]
            ],
            "type": "heatmapgl"
           }
          ],
          "histogram": [
           {
            "marker": {
             "pattern": {
              "fillmode": "overlay",
              "size": 10,
              "solidity": 0.2
             }
            },
            "type": "histogram"
           }
          ],
          "histogram2d": [
           {
            "colorbar": {
             "outlinewidth": 0,
             "ticks": ""
            },
            "colorscale": [
             [
              0,
              "#0d0887"
             ],
             [
              0.1111111111111111,
              "#46039f"
             ],
             [
              0.2222222222222222,
              "#7201a8"
             ],
             [
              0.3333333333333333,
              "#9c179e"
             ],
             [
              0.4444444444444444,
              "#bd3786"
             ],
             [
              0.5555555555555556,
              "#d8576b"
             ],
             [
              0.6666666666666666,
              "#ed7953"
             ],
             [
              0.7777777777777778,
              "#fb9f3a"
             ],
             [
              0.8888888888888888,
              "#fdca26"
             ],
             [
              1,
              "#f0f921"
             ]
            ],
            "type": "histogram2d"
           }
          ],
          "histogram2dcontour": [
           {
            "colorbar": {
             "outlinewidth": 0,
             "ticks": ""
            },
            "colorscale": [
             [
              0,
              "#0d0887"
             ],
             [
              0.1111111111111111,
              "#46039f"
             ],
             [
              0.2222222222222222,
              "#7201a8"
             ],
             [
              0.3333333333333333,
              "#9c179e"
             ],
             [
              0.4444444444444444,
              "#bd3786"
             ],
             [
              0.5555555555555556,
              "#d8576b"
             ],
             [
              0.6666666666666666,
              "#ed7953"
             ],
             [
              0.7777777777777778,
              "#fb9f3a"
             ],
             [
              0.8888888888888888,
              "#fdca26"
             ],
             [
              1,
              "#f0f921"
             ]
            ],
            "type": "histogram2dcontour"
           }
          ],
          "mesh3d": [
           {
            "colorbar": {
             "outlinewidth": 0,
             "ticks": ""
            },
            "type": "mesh3d"
           }
          ],
          "parcoords": [
           {
            "line": {
             "colorbar": {
              "outlinewidth": 0,
              "ticks": ""
             }
            },
            "type": "parcoords"
           }
          ],
          "pie": [
           {
            "automargin": true,
            "type": "pie"
           }
          ],
          "scatter": [
           {
            "marker": {
             "colorbar": {
              "outlinewidth": 0,
              "ticks": ""
             }
            },
            "type": "scatter"
           }
          ],
          "scatter3d": [
           {
            "line": {
             "colorbar": {
              "outlinewidth": 0,
              "ticks": ""
             }
            },
            "marker": {
             "colorbar": {
              "outlinewidth": 0,
              "ticks": ""
             }
            },
            "type": "scatter3d"
           }
          ],
          "scattercarpet": [
           {
            "marker": {
             "colorbar": {
              "outlinewidth": 0,
              "ticks": ""
             }
            },
            "type": "scattercarpet"
           }
          ],
          "scattergeo": [
           {
            "marker": {
             "colorbar": {
              "outlinewidth": 0,
              "ticks": ""
             }
            },
            "type": "scattergeo"
           }
          ],
          "scattergl": [
           {
            "marker": {
             "colorbar": {
              "outlinewidth": 0,
              "ticks": ""
             }
            },
            "type": "scattergl"
           }
          ],
          "scattermapbox": [
           {
            "marker": {
             "colorbar": {
              "outlinewidth": 0,
              "ticks": ""
             }
            },
            "type": "scattermapbox"
           }
          ],
          "scatterpolar": [
           {
            "marker": {
             "colorbar": {
              "outlinewidth": 0,
              "ticks": ""
             }
            },
            "type": "scatterpolar"
           }
          ],
          "scatterpolargl": [
           {
            "marker": {
             "colorbar": {
              "outlinewidth": 0,
              "ticks": ""
             }
            },
            "type": "scatterpolargl"
           }
          ],
          "scatterternary": [
           {
            "marker": {
             "colorbar": {
              "outlinewidth": 0,
              "ticks": ""
             }
            },
            "type": "scatterternary"
           }
          ],
          "surface": [
           {
            "colorbar": {
             "outlinewidth": 0,
             "ticks": ""
            },
            "colorscale": [
             [
              0,
              "#0d0887"
             ],
             [
              0.1111111111111111,
              "#46039f"
             ],
             [
              0.2222222222222222,
              "#7201a8"
             ],
             [
              0.3333333333333333,
              "#9c179e"
             ],
             [
              0.4444444444444444,
              "#bd3786"
             ],
             [
              0.5555555555555556,
              "#d8576b"
             ],
             [
              0.6666666666666666,
              "#ed7953"
             ],
             [
              0.7777777777777778,
              "#fb9f3a"
             ],
             [
              0.8888888888888888,
              "#fdca26"
             ],
             [
              1,
              "#f0f921"
             ]
            ],
            "type": "surface"
           }
          ],
          "table": [
           {
            "cells": {
             "fill": {
              "color": "#EBF0F8"
             },
             "line": {
              "color": "white"
             }
            },
            "header": {
             "fill": {
              "color": "#C8D4E3"
             },
             "line": {
              "color": "white"
             }
            },
            "type": "table"
           }
          ]
         },
         "layout": {
          "annotationdefaults": {
           "arrowcolor": "#2a3f5f",
           "arrowhead": 0,
           "arrowwidth": 1
          },
          "autotypenumbers": "strict",
          "coloraxis": {
           "colorbar": {
            "outlinewidth": 0,
            "ticks": ""
           }
          },
          "colorscale": {
           "diverging": [
            [
             0,
             "#8e0152"
            ],
            [
             0.1,
             "#c51b7d"
            ],
            [
             0.2,
             "#de77ae"
            ],
            [
             0.3,
             "#f1b6da"
            ],
            [
             0.4,
             "#fde0ef"
            ],
            [
             0.5,
             "#f7f7f7"
            ],
            [
             0.6,
             "#e6f5d0"
            ],
            [
             0.7,
             "#b8e186"
            ],
            [
             0.8,
             "#7fbc41"
            ],
            [
             0.9,
             "#4d9221"
            ],
            [
             1,
             "#276419"
            ]
           ],
           "sequential": [
            [
             0,
             "#0d0887"
            ],
            [
             0.1111111111111111,
             "#46039f"
            ],
            [
             0.2222222222222222,
             "#7201a8"
            ],
            [
             0.3333333333333333,
             "#9c179e"
            ],
            [
             0.4444444444444444,
             "#bd3786"
            ],
            [
             0.5555555555555556,
             "#d8576b"
            ],
            [
             0.6666666666666666,
             "#ed7953"
            ],
            [
             0.7777777777777778,
             "#fb9f3a"
            ],
            [
             0.8888888888888888,
             "#fdca26"
            ],
            [
             1,
             "#f0f921"
            ]
           ],
           "sequentialminus": [
            [
             0,
             "#0d0887"
            ],
            [
             0.1111111111111111,
             "#46039f"
            ],
            [
             0.2222222222222222,
             "#7201a8"
            ],
            [
             0.3333333333333333,
             "#9c179e"
            ],
            [
             0.4444444444444444,
             "#bd3786"
            ],
            [
             0.5555555555555556,
             "#d8576b"
            ],
            [
             0.6666666666666666,
             "#ed7953"
            ],
            [
             0.7777777777777778,
             "#fb9f3a"
            ],
            [
             0.8888888888888888,
             "#fdca26"
            ],
            [
             1,
             "#f0f921"
            ]
           ]
          },
          "colorway": [
           "#636efa",
           "#EF553B",
           "#00cc96",
           "#ab63fa",
           "#FFA15A",
           "#19d3f3",
           "#FF6692",
           "#B6E880",
           "#FF97FF",
           "#FECB52"
          ],
          "font": {
           "color": "#2a3f5f"
          },
          "geo": {
           "bgcolor": "white",
           "lakecolor": "white",
           "landcolor": "#E5ECF6",
           "showlakes": true,
           "showland": true,
           "subunitcolor": "white"
          },
          "hoverlabel": {
           "align": "left"
          },
          "hovermode": "closest",
          "mapbox": {
           "style": "light"
          },
          "paper_bgcolor": "white",
          "plot_bgcolor": "#E5ECF6",
          "polar": {
           "angularaxis": {
            "gridcolor": "white",
            "linecolor": "white",
            "ticks": ""
           },
           "bgcolor": "#E5ECF6",
           "radialaxis": {
            "gridcolor": "white",
            "linecolor": "white",
            "ticks": ""
           }
          },
          "scene": {
           "xaxis": {
            "backgroundcolor": "#E5ECF6",
            "gridcolor": "white",
            "gridwidth": 2,
            "linecolor": "white",
            "showbackground": true,
            "ticks": "",
            "zerolinecolor": "white"
           },
           "yaxis": {
            "backgroundcolor": "#E5ECF6",
            "gridcolor": "white",
            "gridwidth": 2,
            "linecolor": "white",
            "showbackground": true,
            "ticks": "",
            "zerolinecolor": "white"
           },
           "zaxis": {
            "backgroundcolor": "#E5ECF6",
            "gridcolor": "white",
            "gridwidth": 2,
            "linecolor": "white",
            "showbackground": true,
            "ticks": "",
            "zerolinecolor": "white"
           }
          },
          "shapedefaults": {
           "line": {
            "color": "#2a3f5f"
           }
          },
          "ternary": {
           "aaxis": {
            "gridcolor": "white",
            "linecolor": "white",
            "ticks": ""
           },
           "baxis": {
            "gridcolor": "white",
            "linecolor": "white",
            "ticks": ""
           },
           "bgcolor": "#E5ECF6",
           "caxis": {
            "gridcolor": "white",
            "linecolor": "white",
            "ticks": ""
           }
          },
          "title": {
           "x": 0.05
          },
          "xaxis": {
           "automargin": true,
           "gridcolor": "white",
           "linecolor": "white",
           "ticks": "",
           "title": {
            "standoff": 15
           },
           "zerolinecolor": "white",
           "zerolinewidth": 2
          },
          "yaxis": {
           "automargin": true,
           "gridcolor": "white",
           "linecolor": "white",
           "ticks": "",
           "title": {
            "standoff": 15
           },
           "zerolinecolor": "white",
           "zerolinewidth": 2
          }
         }
        },
        "title": {
         "text": "65,787,000 Households or 56% own at least one pet"
        },
        "xaxis": {
         "anchor": "y",
         "domain": [
          0,
          1
         ],
         "range": [
          0,
          100
         ],
         "title": {
          "text": "Percentage"
         }
        },
        "yaxis": {
         "anchor": "x",
         "categoryorder": "total ascending",
         "domain": [
          0,
          1
         ],
         "title": {
          "text": "State"
         }
        }
       }
      },
      "text/html": [
       "<div>                            <div id=\"82072bbd-eaa6-498f-838c-2a944e563ad7\" class=\"plotly-graph-div\" style=\"height:525px; width:100%;\"></div>            <script type=\"text/javascript\">                require([\"plotly\"], function(Plotly) {                    window.PLOTLYENV=window.PLOTLYENV || {};                                    if (document.getElementById(\"82072bbd-eaa6-498f-838c-2a944e563ad7\")) {                    Plotly.newPlot(                        \"82072bbd-eaa6-498f-838c-2a944e563ad7\",                        [{\"alignmentgroup\":\"True\",\"customdata\":[[58.5,9002.0],[59.6,2583.0],[59.5,2515.0],[61.4,2498.0],[55.1,3798.0],[56.4,3701.0],[62.4,1148.0],[58.9,1479.0],[55.1,1702.0],[61.6,1777.0],[56.4,1115.0],[67.6,773.0],[61.3,1986.0],[59.5,1828.0],[54.1,1759.0],[61.0,1133.0],[62.1,765.0],[61.3,410.0],[61.8,221.0],[21.9,287.0],[56.6,334.0],[53.9,272.0],[62.0,568.0],[51.2,930.0],[55.6,986.0],[53.0,434.0],[65.6,333.0],[51.8,5026.0],[70.8,265.0],[56.8,508.0],[50.7,3177.0],[51.3,710.0],[53.4,3017.0],[54.4,7609.0],[53.6,1219.0],[62.9,548.0],[62.7,2632.0],[63.6,1505.0],[54.4,1337.0],[59.9,2478.0],[53.0,2163.0],[57.5,2350.0],[55.4,3804.0],[52.9,12974.0],[50.4,2618.0],[52.3,2169.0],[57.4,4661.0],[56.9,5172.0],[50.6,7512.0]],\"hovertemplate\":\"Category=Only Dog(s)<br>Percentage=%{x}<br>State=%{y}<br>Percentage of households with pets=%{customdata[0]}<br>Number of Households (in 1000)=%{customdata[1]}<extra></extra>\",\"legendgroup\":\"Only Dog(s)\",\"marker\":{\"color\":\"#ab63fa\",\"pattern\":{\"shape\":\"\"}},\"name\":\"Only Dog(s)\",\"offsetgroup\":\"Only Dog(s)\",\"orientation\":\"h\",\"showlegend\":true,\"textposition\":\"auto\",\"type\":\"bar\",\"x\":[30.23,29.81,29.98,29.18,27.8,26.99,31.79,26.37,29.14,24.76,27.35,35.71,28.95,32.11,26.21,27.63,24.05,27.56,28.05,10.45,22.75,22.79,27.46,26.56,25.25,25.35,26.73,25.49,21.51,22.64,25.43,20.0,24.36,27.06,23.3,16.61,23.59,23.39,22.51,25.5,23.25,24.51,24.08,24.5,16.27,22.54,24.11,23.09,21.47],\"xaxis\":\"x\",\"y\":[\"Texas\",\"Tennessee\",\"Arizona\",\"Missouri\",\"Georgia\",\"North Carolina\",\"Arkansas\",\"Oklahoma\",\"Louisiana\",\"Kentucky\",\"Mississippi\",\"New Mexico\",\"Colorado\",\"Alabama\",\"South Carolina\",\"Kansas\",\"West Virginia\",\"Montana\",\"Wyoming\",\"District of Columbia\",\"Delaware\",\"North Dakota\",\"Idaho\",\"Utah\",\"Nevada\",\"Rhode Island\",\"South Dakota\",\"Illinois\",\"Vermont\",\"New Hampshire\",\"New Jersey\",\"Nebraska\",\"Virginia\",\"Florida\",\"Iowa\",\"Maine\",\"Washington\",\"Oregon\",\"Connecticut\",\"Indiana\",\"Minnesota\",\"Wisconsin\",\"Michigan\",\"California\",\"Massachusetts\",\"Maryland\",\"Ohio\",\"Pennsylvania\",\"New York\"],\"yaxis\":\"y\"},{\"alignmentgroup\":\"True\",\"customdata\":[[58.5,9002.0],[59.6,2583.0],[59.5,2515.0],[61.4,2498.0],[55.1,3798.0],[56.4,3701.0],[62.4,1148.0],[58.9,1479.0],[55.1,1702.0],[61.6,1777.0],[56.4,1115.0],[67.6,773.0],[61.3,1986.0],[59.5,1828.0],[54.1,1759.0],[61.0,1133.0],[62.1,765.0],[61.3,410.0],[61.8,221.0],[21.9,287.0],[56.6,334.0],[53.9,272.0],[62.0,568.0],[51.2,930.0],[55.6,986.0],[53.0,434.0],[65.6,333.0],[51.8,5026.0],[70.8,265.0],[56.8,508.0],[50.7,3177.0],[51.3,710.0],[53.4,3017.0],[54.4,7609.0],[53.6,1219.0],[62.9,548.0],[62.7,2632.0],[63.6,1505.0],[54.4,1337.0],[59.9,2478.0],[53.0,2163.0],[57.5,2350.0],[55.4,3804.0],[52.9,12974.0],[50.4,2618.0],[52.3,2169.0],[57.4,4661.0],[56.9,5172.0],[50.6,7512.0]],\"hovertemplate\":\"Category=Only Cat(s)<br>Percentage=%{x}<br>State=%{y}<br>Percentage of households with pets=%{customdata[0]}<br>Number of Households (in 1000)=%{customdata[1]}<extra></extra>\",\"legendgroup\":\"Only Cat(s)\",\"marker\":{\"color\":\"#FFA15A\",\"pattern\":{\"shape\":\"\"}},\"name\":\"Only Cat(s)\",\"offsetgroup\":\"Only Cat(s)\",\"orientation\":\"h\",\"showlegend\":true,\"textposition\":\"auto\",\"type\":\"bar\",\"x\":[14.5,15.49,19.44,15.45,15.03,16.16,14.46,15.82,18.68,15.64,11.21,21.6,18.73,15.37,15.52,18.62,16.34,20.0,23.08,8.71,22.75,18.01,19.37,21.83,18.46,23.73,22.82,19.4,33.21,26.57,18.35,17.46,17.96,18.66,20.26,28.28,26.41,24.78,26.1,19.98,21.08,23.66,20.77,20.08,26.74,21.53,20.79,23.98,21.63],\"xaxis\":\"x\",\"y\":[\"Texas\",\"Tennessee\",\"Arizona\",\"Missouri\",\"Georgia\",\"North Carolina\",\"Arkansas\",\"Oklahoma\",\"Louisiana\",\"Kentucky\",\"Mississippi\",\"New Mexico\",\"Colorado\",\"Alabama\",\"South Carolina\",\"Kansas\",\"West Virginia\",\"Montana\",\"Wyoming\",\"District of Columbia\",\"Delaware\",\"North Dakota\",\"Idaho\",\"Utah\",\"Nevada\",\"Rhode Island\",\"South Dakota\",\"Illinois\",\"Vermont\",\"New Hampshire\",\"New Jersey\",\"Nebraska\",\"Virginia\",\"Florida\",\"Iowa\",\"Maine\",\"Washington\",\"Oregon\",\"Connecticut\",\"Indiana\",\"Minnesota\",\"Wisconsin\",\"Michigan\",\"California\",\"Massachusetts\",\"Maryland\",\"Ohio\",\"Pennsylvania\",\"New York\"],\"yaxis\":\"y\"},{\"alignmentgroup\":\"True\",\"customdata\":[[58.5,9002.0],[59.6,2583.0],[59.5,2515.0],[61.4,2498.0],[55.1,3798.0],[56.4,3701.0],[62.4,1148.0],[58.9,1479.0],[55.1,1702.0],[61.6,1777.0],[56.4,1115.0],[67.6,773.0],[61.3,1986.0],[59.5,1828.0],[54.1,1759.0],[61.0,1133.0],[62.1,765.0],[61.3,410.0],[61.8,221.0],[21.9,287.0],[56.6,334.0],[53.9,272.0],[62.0,568.0],[51.2,930.0],[55.6,986.0],[53.0,434.0],[65.6,333.0],[51.8,5026.0],[70.8,265.0],[56.8,508.0],[50.7,3177.0],[51.3,710.0],[53.4,3017.0],[54.4,7609.0],[53.6,1219.0],[62.9,548.0],[62.7,2632.0],[63.6,1505.0],[54.4,1337.0],[59.9,2478.0],[53.0,2163.0],[57.5,2350.0],[55.4,3804.0],[52.9,12974.0],[50.4,2618.0],[52.3,2169.0],[57.4,4661.0],[56.9,5172.0],[50.6,7512.0]],\"hovertemplate\":\"Category=Both Dog(s) and Cat(s)<br>Percentage=%{x}<br>State=%{y}<br>Percentage of households with pets=%{customdata[0]}<br>Number of Households (in 1000)=%{customdata[1]}<extra></extra>\",\"legendgroup\":\"Both Dog(s) and Cat(s)\",\"marker\":{\"color\":\"#19d3f3\",\"pattern\":{\"shape\":\"\"}},\"name\":\"Both Dog(s) and Cat(s)\",\"offsetgroup\":\"Both Dog(s) and Cat(s)\",\"orientation\":\"h\",\"showlegend\":true,\"textposition\":\"auto\",\"type\":\"bar\",\"x\":[13.76,14.32,10.1,16.77,12.27,13.29,16.11,16.77,7.23,21.16,17.85,10.35,13.6,12.04,12.34,14.74,21.7,13.66,10.86,2.79,11.08,13.24,15.14,2.8,11.87,3.92,16.22,6.88,16.23,7.68,6.92,13.8,11.07,8.66,10.09,18.07,12.65,15.42,5.83,14.41,8.65,9.36,10.57,8.34,7.33,8.21,12.53,9.82,7.51],\"xaxis\":\"x\",\"y\":[\"Texas\",\"Tennessee\",\"Arizona\",\"Missouri\",\"Georgia\",\"North Carolina\",\"Arkansas\",\"Oklahoma\",\"Louisiana\",\"Kentucky\",\"Mississippi\",\"New Mexico\",\"Colorado\",\"Alabama\",\"South Carolina\",\"Kansas\",\"West Virginia\",\"Montana\",\"Wyoming\",\"District of Columbia\",\"Delaware\",\"North Dakota\",\"Idaho\",\"Utah\",\"Nevada\",\"Rhode Island\",\"South Dakota\",\"Illinois\",\"Vermont\",\"New Hampshire\",\"New Jersey\",\"Nebraska\",\"Virginia\",\"Florida\",\"Iowa\",\"Maine\",\"Washington\",\"Oregon\",\"Connecticut\",\"Indiana\",\"Minnesota\",\"Wisconsin\",\"Michigan\",\"California\",\"Massachusetts\",\"Maryland\",\"Ohio\",\"Pennsylvania\",\"New York\"],\"yaxis\":\"y\"}],                        {\"barmode\":\"relative\",\"legend\":{\"title\":{\"text\":\"Category\"},\"tracegroupgap\":0},\"template\":{\"data\":{\"bar\":[{\"error_x\":{\"color\":\"#2a3f5f\"},\"error_y\":{\"color\":\"#2a3f5f\"},\"marker\":{\"line\":{\"color\":\"#E5ECF6\",\"width\":0.5},\"pattern\":{\"fillmode\":\"overlay\",\"size\":10,\"solidity\":0.2}},\"type\":\"bar\"}],\"barpolar\":[{\"marker\":{\"line\":{\"color\":\"#E5ECF6\",\"width\":0.5},\"pattern\":{\"fillmode\":\"overlay\",\"size\":10,\"solidity\":0.2}},\"type\":\"barpolar\"}],\"carpet\":[{\"aaxis\":{\"endlinecolor\":\"#2a3f5f\",\"gridcolor\":\"white\",\"linecolor\":\"white\",\"minorgridcolor\":\"white\",\"startlinecolor\":\"#2a3f5f\"},\"baxis\":{\"endlinecolor\":\"#2a3f5f\",\"gridcolor\":\"white\",\"linecolor\":\"white\",\"minorgridcolor\":\"white\",\"startlinecolor\":\"#2a3f5f\"},\"type\":\"carpet\"}],\"choropleth\":[{\"colorbar\":{\"outlinewidth\":0,\"ticks\":\"\"},\"type\":\"choropleth\"}],\"contour\":[{\"colorbar\":{\"outlinewidth\":0,\"ticks\":\"\"},\"colorscale\":[[0.0,\"#0d0887\"],[0.1111111111111111,\"#46039f\"],[0.2222222222222222,\"#7201a8\"],[0.3333333333333333,\"#9c179e\"],[0.4444444444444444,\"#bd3786\"],[0.5555555555555556,\"#d8576b\"],[0.6666666666666666,\"#ed7953\"],[0.7777777777777778,\"#fb9f3a\"],[0.8888888888888888,\"#fdca26\"],[1.0,\"#f0f921\"]],\"type\":\"contour\"}],\"contourcarpet\":[{\"colorbar\":{\"outlinewidth\":0,\"ticks\":\"\"},\"type\":\"contourcarpet\"}],\"heatmap\":[{\"colorbar\":{\"outlinewidth\":0,\"ticks\":\"\"},\"colorscale\":[[0.0,\"#0d0887\"],[0.1111111111111111,\"#46039f\"],[0.2222222222222222,\"#7201a8\"],[0.3333333333333333,\"#9c179e\"],[0.4444444444444444,\"#bd3786\"],[0.5555555555555556,\"#d8576b\"],[0.6666666666666666,\"#ed7953\"],[0.7777777777777778,\"#fb9f3a\"],[0.8888888888888888,\"#fdca26\"],[1.0,\"#f0f921\"]],\"type\":\"heatmap\"}],\"heatmapgl\":[{\"colorbar\":{\"outlinewidth\":0,\"ticks\":\"\"},\"colorscale\":[[0.0,\"#0d0887\"],[0.1111111111111111,\"#46039f\"],[0.2222222222222222,\"#7201a8\"],[0.3333333333333333,\"#9c179e\"],[0.4444444444444444,\"#bd3786\"],[0.5555555555555556,\"#d8576b\"],[0.6666666666666666,\"#ed7953\"],[0.7777777777777778,\"#fb9f3a\"],[0.8888888888888888,\"#fdca26\"],[1.0,\"#f0f921\"]],\"type\":\"heatmapgl\"}],\"histogram\":[{\"marker\":{\"pattern\":{\"fillmode\":\"overlay\",\"size\":10,\"solidity\":0.2}},\"type\":\"histogram\"}],\"histogram2d\":[{\"colorbar\":{\"outlinewidth\":0,\"ticks\":\"\"},\"colorscale\":[[0.0,\"#0d0887\"],[0.1111111111111111,\"#46039f\"],[0.2222222222222222,\"#7201a8\"],[0.3333333333333333,\"#9c179e\"],[0.4444444444444444,\"#bd3786\"],[0.5555555555555556,\"#d8576b\"],[0.6666666666666666,\"#ed7953\"],[0.7777777777777778,\"#fb9f3a\"],[0.8888888888888888,\"#fdca26\"],[1.0,\"#f0f921\"]],\"type\":\"histogram2d\"}],\"histogram2dcontour\":[{\"colorbar\":{\"outlinewidth\":0,\"ticks\":\"\"},\"colorscale\":[[0.0,\"#0d0887\"],[0.1111111111111111,\"#46039f\"],[0.2222222222222222,\"#7201a8\"],[0.3333333333333333,\"#9c179e\"],[0.4444444444444444,\"#bd3786\"],[0.5555555555555556,\"#d8576b\"],[0.6666666666666666,\"#ed7953\"],[0.7777777777777778,\"#fb9f3a\"],[0.8888888888888888,\"#fdca26\"],[1.0,\"#f0f921\"]],\"type\":\"histogram2dcontour\"}],\"mesh3d\":[{\"colorbar\":{\"outlinewidth\":0,\"ticks\":\"\"},\"type\":\"mesh3d\"}],\"parcoords\":[{\"line\":{\"colorbar\":{\"outlinewidth\":0,\"ticks\":\"\"}},\"type\":\"parcoords\"}],\"pie\":[{\"automargin\":true,\"type\":\"pie\"}],\"scatter\":[{\"marker\":{\"colorbar\":{\"outlinewidth\":0,\"ticks\":\"\"}},\"type\":\"scatter\"}],\"scatter3d\":[{\"line\":{\"colorbar\":{\"outlinewidth\":0,\"ticks\":\"\"}},\"marker\":{\"colorbar\":{\"outlinewidth\":0,\"ticks\":\"\"}},\"type\":\"scatter3d\"}],\"scattercarpet\":[{\"marker\":{\"colorbar\":{\"outlinewidth\":0,\"ticks\":\"\"}},\"type\":\"scattercarpet\"}],\"scattergeo\":[{\"marker\":{\"colorbar\":{\"outlinewidth\":0,\"ticks\":\"\"}},\"type\":\"scattergeo\"}],\"scattergl\":[{\"marker\":{\"colorbar\":{\"outlinewidth\":0,\"ticks\":\"\"}},\"type\":\"scattergl\"}],\"scattermapbox\":[{\"marker\":{\"colorbar\":{\"outlinewidth\":0,\"ticks\":\"\"}},\"type\":\"scattermapbox\"}],\"scatterpolar\":[{\"marker\":{\"colorbar\":{\"outlinewidth\":0,\"ticks\":\"\"}},\"type\":\"scatterpolar\"}],\"scatterpolargl\":[{\"marker\":{\"colorbar\":{\"outlinewidth\":0,\"ticks\":\"\"}},\"type\":\"scatterpolargl\"}],\"scatterternary\":[{\"marker\":{\"colorbar\":{\"outlinewidth\":0,\"ticks\":\"\"}},\"type\":\"scatterternary\"}],\"surface\":[{\"colorbar\":{\"outlinewidth\":0,\"ticks\":\"\"},\"colorscale\":[[0.0,\"#0d0887\"],[0.1111111111111111,\"#46039f\"],[0.2222222222222222,\"#7201a8\"],[0.3333333333333333,\"#9c179e\"],[0.4444444444444444,\"#bd3786\"],[0.5555555555555556,\"#d8576b\"],[0.6666666666666666,\"#ed7953\"],[0.7777777777777778,\"#fb9f3a\"],[0.8888888888888888,\"#fdca26\"],[1.0,\"#f0f921\"]],\"type\":\"surface\"}],\"table\":[{\"cells\":{\"fill\":{\"color\":\"#EBF0F8\"},\"line\":{\"color\":\"white\"}},\"header\":{\"fill\":{\"color\":\"#C8D4E3\"},\"line\":{\"color\":\"white\"}},\"type\":\"table\"}]},\"layout\":{\"annotationdefaults\":{\"arrowcolor\":\"#2a3f5f\",\"arrowhead\":0,\"arrowwidth\":1},\"autotypenumbers\":\"strict\",\"coloraxis\":{\"colorbar\":{\"outlinewidth\":0,\"ticks\":\"\"}},\"colorscale\":{\"diverging\":[[0,\"#8e0152\"],[0.1,\"#c51b7d\"],[0.2,\"#de77ae\"],[0.3,\"#f1b6da\"],[0.4,\"#fde0ef\"],[0.5,\"#f7f7f7\"],[0.6,\"#e6f5d0\"],[0.7,\"#b8e186\"],[0.8,\"#7fbc41\"],[0.9,\"#4d9221\"],[1,\"#276419\"]],\"sequential\":[[0.0,\"#0d0887\"],[0.1111111111111111,\"#46039f\"],[0.2222222222222222,\"#7201a8\"],[0.3333333333333333,\"#9c179e\"],[0.4444444444444444,\"#bd3786\"],[0.5555555555555556,\"#d8576b\"],[0.6666666666666666,\"#ed7953\"],[0.7777777777777778,\"#fb9f3a\"],[0.8888888888888888,\"#fdca26\"],[1.0,\"#f0f921\"]],\"sequentialminus\":[[0.0,\"#0d0887\"],[0.1111111111111111,\"#46039f\"],[0.2222222222222222,\"#7201a8\"],[0.3333333333333333,\"#9c179e\"],[0.4444444444444444,\"#bd3786\"],[0.5555555555555556,\"#d8576b\"],[0.6666666666666666,\"#ed7953\"],[0.7777777777777778,\"#fb9f3a\"],[0.8888888888888888,\"#fdca26\"],[1.0,\"#f0f921\"]]},\"colorway\":[\"#636efa\",\"#EF553B\",\"#00cc96\",\"#ab63fa\",\"#FFA15A\",\"#19d3f3\",\"#FF6692\",\"#B6E880\",\"#FF97FF\",\"#FECB52\"],\"font\":{\"color\":\"#2a3f5f\"},\"geo\":{\"bgcolor\":\"white\",\"lakecolor\":\"white\",\"landcolor\":\"#E5ECF6\",\"showlakes\":true,\"showland\":true,\"subunitcolor\":\"white\"},\"hoverlabel\":{\"align\":\"left\"},\"hovermode\":\"closest\",\"mapbox\":{\"style\":\"light\"},\"paper_bgcolor\":\"white\",\"plot_bgcolor\":\"#E5ECF6\",\"polar\":{\"angularaxis\":{\"gridcolor\":\"white\",\"linecolor\":\"white\",\"ticks\":\"\"},\"bgcolor\":\"#E5ECF6\",\"radialaxis\":{\"gridcolor\":\"white\",\"linecolor\":\"white\",\"ticks\":\"\"}},\"scene\":{\"xaxis\":{\"backgroundcolor\":\"#E5ECF6\",\"gridcolor\":\"white\",\"gridwidth\":2,\"linecolor\":\"white\",\"showbackground\":true,\"ticks\":\"\",\"zerolinecolor\":\"white\"},\"yaxis\":{\"backgroundcolor\":\"#E5ECF6\",\"gridcolor\":\"white\",\"gridwidth\":2,\"linecolor\":\"white\",\"showbackground\":true,\"ticks\":\"\",\"zerolinecolor\":\"white\"},\"zaxis\":{\"backgroundcolor\":\"#E5ECF6\",\"gridcolor\":\"white\",\"gridwidth\":2,\"linecolor\":\"white\",\"showbackground\":true,\"ticks\":\"\",\"zerolinecolor\":\"white\"}},\"shapedefaults\":{\"line\":{\"color\":\"#2a3f5f\"}},\"ternary\":{\"aaxis\":{\"gridcolor\":\"white\",\"linecolor\":\"white\",\"ticks\":\"\"},\"baxis\":{\"gridcolor\":\"white\",\"linecolor\":\"white\",\"ticks\":\"\"},\"bgcolor\":\"#E5ECF6\",\"caxis\":{\"gridcolor\":\"white\",\"linecolor\":\"white\",\"ticks\":\"\"}},\"title\":{\"x\":0.05},\"xaxis\":{\"automargin\":true,\"gridcolor\":\"white\",\"linecolor\":\"white\",\"ticks\":\"\",\"title\":{\"standoff\":15},\"zerolinecolor\":\"white\",\"zerolinewidth\":2},\"yaxis\":{\"automargin\":true,\"gridcolor\":\"white\",\"linecolor\":\"white\",\"ticks\":\"\",\"title\":{\"standoff\":15},\"zerolinecolor\":\"white\",\"zerolinewidth\":2}}},\"title\":{\"text\":\"65,787,000 Households or 56% own at least one pet\"},\"xaxis\":{\"anchor\":\"y\",\"domain\":[0.0,1.0],\"range\":[0,100],\"title\":{\"text\":\"Percentage\"}},\"yaxis\":{\"anchor\":\"x\",\"categoryorder\":\"total ascending\",\"domain\":[0.0,1.0],\"title\":{\"text\":\"State\"}}},                        {\"responsive\": true}                    ).then(function(){\n",
       "                            \n",
       "var gd = document.getElementById('82072bbd-eaa6-498f-838c-2a944e563ad7');\n",
       "var x = new MutationObserver(function (mutations, observer) {{\n",
       "        var display = window.getComputedStyle(gd).display;\n",
       "        if (!display || display === 'none') {{\n",
       "            console.log([gd, 'removed!']);\n",
       "            Plotly.purge(gd);\n",
       "            observer.disconnect();\n",
       "        }}\n",
       "}});\n",
       "\n",
       "// Listen for the removal of the full notebook cells\n",
       "var notebookContainer = gd.closest('#notebook-container');\n",
       "if (notebookContainer) {{\n",
       "    x.observe(notebookContainer, {childList: true});\n",
       "}}\n",
       "\n",
       "// Listen for the clearing of the current output cell\n",
       "var outputEl = gd.closest('.output');\n",
       "if (outputEl) {{\n",
       "    x.observe(outputEl, {childList: true});\n",
       "}}\n",
       "\n",
       "                        })                };                });            </script>        </div>"
      ]
     },
     "metadata": {},
     "output_type": "display_data"
    }
   ],
   "source": [
    "colors = {'only dog':'#00CC96',\n",
    "          'only cat':'#AB63FA',\n",
    "         'both dog and cat':'#FFA15A'}\n",
    "\n",
    "fig = px.bar(df, y=\"Location\", \n",
    "             x=[\"Only Dog(s)\", \n",
    "                \"Only Cat(s)\",\n",
    "                \"Both Dog(s) and Cat(s)\"],\n",
    "             range_x=[0, 100], labels={'value':'Percentage', 'Location':'State', 'variable':'Category'},\n",
    "             color_discrete_map=colors,\n",
    "             hover_data=[\"Percentage of households with pets\", \"Number of Households (in 1000)\"],\n",
    "             title=\"65,787,000 Households or 56% own at least one pet\",\n",
    "             orientation='h').update_yaxes(categoryorder=\"total ascending\")\n",
    "             #, How Many Housholds Have Pets in the USA Percentage of Households owning Dog, Cat, or Both, color='continent', barmode='group', hover_data=['continent', 'country'], title='Monthly New Cases by Continent')\n",
    "#fig.update_traces(colorscale=colors)\n",
    "#fig.update_layout(height=700, width=700)\n",
    "fig.show()"
   ]
  },
  {
   "cell_type": "code",
   "execution_count": null,
   "metadata": {},
   "outputs": [],
   "source": []
  }
 ],
 "metadata": {
  "kernelspec": {
   "display_name": "Python 3",
   "language": "python",
   "name": "python3"
  },
  "language_info": {
   "codemirror_mode": {
    "name": "ipython",
    "version": 3
   },
   "file_extension": ".py",
   "mimetype": "text/x-python",
   "name": "python",
   "nbconvert_exporter": "python",
   "pygments_lexer": "ipython3",
   "version": "3.7.6"
  },
  "toc": {
   "base_numbering": 1,
   "nav_menu": {},
   "number_sections": true,
   "sideBar": true,
   "skip_h1_title": false,
   "title_cell": "Table of Contents",
   "title_sidebar": "Contents",
   "toc_cell": false,
   "toc_position": {},
   "toc_section_display": true,
   "toc_window_display": false
  }
 },
 "nbformat": 4,
 "nbformat_minor": 4
}
